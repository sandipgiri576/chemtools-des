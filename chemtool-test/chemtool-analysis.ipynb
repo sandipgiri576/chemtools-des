{
 "cells": [
  {
   "cell_type": "code",
   "execution_count": 1,
   "id": "66ed0da8",
   "metadata": {},
   "outputs": [
    {
     "name": "stdout",
     "output_type": "stream",
     "text": [
      "0.9.0\n"
     ]
    }
   ],
   "source": [
    "# Install all the required library\n",
    "# !git clone https://github.com/theochem/chemtools.git chemtools\n",
    "# !conda install -c theochem horton\n",
    "# !conda install git-lfs\n",
    "\n",
    "\n",
    "\n",
    "# import ChemTools library\n",
    "import chemtools\n",
    "\n",
    "# print version of ChemTools library\n",
    "print(chemtools.__version__)"
   ]
  },
  {
   "cell_type": "code",
   "execution_count": 2,
   "id": "ece7a43d",
   "metadata": {},
   "outputs": [
    {
     "name": "stdout",
     "output_type": "stream",
     "text": [
      "usage: chemtools [-h] [-v] <Commands> ...\n",
      "\n",
      "ChemTools command-line tools\n",
      "\n",
      "positional arguments:\n",
      "  <Commands>     <Functions>\n",
      "    mot          Molecular Orbital Theory (MOT).\n",
      "    esp          Electrostatic Potential (ESP).\n",
      "    nci          Non-Covalent Interactions (NCI).\n",
      "    elf          Electron Localization Function (ELF).\n",
      "    lol          Localized Orbital Locator (LOL).\n",
      "    gcdft        Global Conceptual Density Functional Theory.\n",
      "    lcdft        Local Conceptual DFT.\n",
      "    ccdft        Condensed Conceptual DFT.\n",
      "\n",
      "optional arguments:\n",
      "  -h, --help     show this help message and exit\n",
      "  -v, --version  show program's version number and exit\n"
     ]
    }
   ],
   "source": [
    "!chemtools --help"
   ]
  },
  {
   "cell_type": "code",
   "execution_count": 3,
   "id": "edeaa703",
   "metadata": {},
   "outputs": [
    {
     "name": "stdout",
     "output_type": "stream",
     "text": [
      "/scratch/sandip/current-project/chemtools/chemtool-test\n"
     ]
    },
    {
     "name": "stdout",
     "output_type": "stream",
     "text": [
      "al3ga3-dens.cube  al3ga3.vmd\t\t   data\n",
      "al3ga3-grad.cube  chemtool-analysis.ipynb  venky\n"
     ]
    }
   ],
   "source": [
    "!pwd\n",
    "!ls "
   ]
  },
  {
   "cell_type": "code",
   "execution_count": 4,
   "id": "d731f4b0",
   "metadata": {},
   "outputs": [
    {
     "name": "stderr",
     "output_type": "stream",
     "text": [
      "INFO: Initialize   : <class 'chemtools.toolbox.conceptual.GlobalConceptualDFT'>\n",
      "INFO: Energy Model : linear\n",
      "INFO: Initialize   : <class 'chemtools.toolbox.conceptual.GlobalConceptualDFT'>\n",
      "INFO: Energy Model : quadratic\n",
      "INFO: Initialize   : <class 'chemtools.toolbox.conceptual.GlobalConceptualDFT'>\n",
      "INFO: Energy Model : rational\n"
     ]
    },
    {
     "name": "stdout",
     "output_type": "stream",
     "text": [
      "\n",
      "\n",
      "User:           sandip\n",
      "Machine info:   Linux ichamati.iitkgp.ac.in 3.10.0-693.5.2.el7.x86_64 #1 SMP Fri Oct 20 20:32:50\n",
      "                UTC 2017 x86_64\n",
      "Time:           2023-07-18T10:16:56.317508\n",
      "Python version: 3.9.12 (main, Apr  5 2022, 06:56:58) [GCC 7.5.0]\n",
      "HORTON version: 2.1.0\n",
      "Current Dir:    /scratch/sandip/current-project/chemtools/chemtool-test\n",
      "Command line:   /home/sandip/miniconda3/lib/python3.9/site-packages/ipykernel_launcher.py\n",
      "                --ip=127.0.0.1 --stdin=9003 --control=9001 --hb=9000\n",
      "                --Session.signature_scheme=\"hmac-sha256\"\n",
      "                --Session.key=b\"99bc9bab-4466-417a-9d7d-1e907181ce47\" --shell=9002\n",
      "                --transport=\"tcp\" --iopub=9004\n",
      "                --f=/home/sandip/.local/share/jupyter/runtime/kernel-v2-179175rq4gbOjrPHKo.json\n",
      "HORTON module:  /home/sandip/miniconda3/lib/python3.9/site-packages/horton/log.py\n",
      "\n",
      "Initialized: <horton.gbasis.cext.GOBasis object at 0x7fd475ce2940>\n",
      "  Number of basis functions         : 270\n",
      "  Number of normalization constants : 540\n",
      "  Maximum shell type                : 3\n",
      "  Center     0 :  S7 S3 S2 S1 S1 P5 P1 P1 P1 P1 Dp1 Dp1 Dp1 Fp1\n",
      "  Center     1 :  S7 S3 S2 S1 S1 P5 P1 P1 P1 P1 Dp1 Dp1 Dp1 Fp1\n",
      "  Center     2 :  S7 S3 S2 S1 S1 P5 P1 P1 P1 P1 Dp1 Dp1 Dp1 Fp1\n",
      "  Center     3 :  S8 S4 S2 S1 S1 S1 P6 P3 P1 P1 P1 Dp5 Dp1 Dp1 Dp1 Fp1\n",
      "  Center     4 :  S8 S4 S2 S1 S1 S1 P6 P3 P1 P1 P1 Dp5 Dp1 Dp1 Dp1 Fp1\n",
      "  Center     5 :  S8 S4 S2 S1 S1 S1 P6 P3 P1 P1 P1 Dp5 Dp1 Dp1 Dp1 Fp1\n",
      "\n",
      "Initialized: <horton.gbasis.cext.GOBasis object at 0x7fd475ce2460>\n",
      "  Number of basis functions         : 270\n",
      "  Number of normalization constants : 540\n",
      "  Maximum shell type                : 3\n",
      "  Center     0 :  S7 S3 S2 S1 S1 P5 P1 P1 P1 P1 Dp1 Dp1 Dp1 Fp1\n",
      "  Center     1 :  S7 S3 S2 S1 S1 P5 P1 P1 P1 P1 Dp1 Dp1 Dp1 Fp1\n",
      "  Center     2 :  S7 S3 S2 S1 S1 P5 P1 P1 P1 P1 Dp1 Dp1 Dp1 Fp1\n",
      "  Center     3 :  S8 S4 S2 S1 S1 S1 P6 P3 P1 P1 P1 Dp5 Dp1 Dp1 Dp1 Fp1\n",
      "  Center     4 :  S8 S4 S2 S1 S1 S1 P6 P3 P1 P1 P1 Dp5 Dp1 Dp1 Dp1 Fp1\n",
      "  Center     5 :  S8 S4 S2 S1 S1 S1 P6 P3 P1 P1 P1 Dp5 Dp1 Dp1 Dp1 Fp1\n",
      "\n",
      "Initialized: <horton.gbasis.cext.GOBasis object at 0x7fd475ce25e0>\n",
      "  Number of basis functions         : 270\n",
      "  Number of normalization constants : 540\n",
      "  Maximum shell type                : 3\n",
      "  Center     0 :  S7 S3 S2 S1 S1 P5 P1 P1 P1 P1 Dp1 Dp1 Dp1 Fp1\n",
      "  Center     1 :  S7 S3 S2 S1 S1 P5 P1 P1 P1 P1 Dp1 Dp1 Dp1 Fp1\n",
      "  Center     2 :  S7 S3 S2 S1 S1 P5 P1 P1 P1 P1 Dp1 Dp1 Dp1 Fp1\n",
      "  Center     3 :  S8 S4 S2 S1 S1 S1 P6 P3 P1 P1 P1 Dp5 Dp1 Dp1 Dp1 Fp1\n",
      "  Center     4 :  S8 S4 S2 S1 S1 S1 P6 P3 P1 P1 P1 Dp5 Dp1 Dp1 Dp1 Fp1\n",
      "  Center     5 :  S8 S4 S2 S1 S1 S1 P6 P3 P1 P1 P1 Dp5 Dp1 Dp1 Dp1 Fp1\n",
      "\n"
     ]
    },
    {
     "name": "stderr",
     "output_type": "stream",
     "text": [
      "INFO: Initialize   : <class 'chemtools.toolbox.conceptual.GlobalConceptualDFT'>\n",
      "INFO: Energy Model : exponential\n",
      "WARNING: Property evaluated for n_elec=130.9 outside of interpolation region [131.0, 133.0].\n",
      "WARNING: Property evaluated for n_elec=130.9 outside of interpolation region [131.0, 133.0].\n",
      "WARNING: Property evaluated for n_elec=130.9 outside of interpolation region [131.0, 133.0].\n",
      "WARNING: Property evaluated for n_elec=130.9 outside of interpolation region [131.0, 133.0].\n"
     ]
    },
    {
     "name": "stdout",
     "output_type": "stream",
     "text": [
      "Initialized: <horton.gbasis.cext.GOBasis object at 0x7fd475cb0280>\n",
      "  Number of basis functions         : 270\n",
      "  Number of normalization constants : 540\n",
      "  Maximum shell type                : 3\n",
      "  Center     0 :  S7 S3 S2 S1 S1 P5 P1 P1 P1 P1 Dp1 Dp1 Dp1 Fp1\n",
      "  Center     1 :  S7 S3 S2 S1 S1 P5 P1 P1 P1 P1 Dp1 Dp1 Dp1 Fp1\n",
      "  Center     2 :  S7 S3 S2 S1 S1 P5 P1 P1 P1 P1 Dp1 Dp1 Dp1 Fp1\n",
      "  Center     3 :  S8 S4 S2 S1 S1 S1 P6 P3 P1 P1 P1 Dp5 Dp1 Dp1 Dp1 Fp1\n",
      "  Center     4 :  S8 S4 S2 S1 S1 S1 P6 P3 P1 P1 P1 Dp5 Dp1 Dp1 Dp1 Fp1\n",
      "  Center     5 :  S8 S4 S2 S1 S1 S1 P6 P3 P1 P1 P1 Dp5 Dp1 Dp1 Dp1 Fp1\n",
      "\n"
     ]
    },
    {
     "data": {
      "image/png": "[encoded data removed]",
      "text/plain": [
       "<Figure size 640x480 with 1 Axes>"
      ]
     },
     "metadata": {},
     "output_type": "display_data"
    }
   ],
   "source": [
    "import numpy as np\n",
    "import matplotlib.pyplot as plt\n",
    "from chemtools import GlobalConceptualDFT\n",
    "%matplotlib inline\n",
    "\n",
    "# 1. Build linear and quadratic energy models using FMO approach\n",
    "\n",
    "# path to molecule's fchk file\n",
    "file_path = 'data/al3ga3.fchk'\n",
    "# build linear & quadratic global conceptual DFT tool (one file is passed, so FMO approach is taken)\n",
    "model_lin = GlobalConceptualDFT.from_file(file_path, 'linear')\n",
    "model_qua = GlobalConceptualDFT.from_file(file_path, 'quadratic')\n",
    "model_rat = GlobalConceptualDFT.from_file(file_path, 'rational')\n",
    "model_exp = GlobalConceptualDFT.from_file(file_path, 'exponential')\n",
    "\n",
    "# 2. Compute energy values for various number of electrons.\n",
    "\n",
    "# get reference number of electrons, n0, from either linear or quadratic models\n",
    "n0 = model_lin.n0\n",
    "# sample number of electrons around n0\n",
    "n_values = np.arange(n0 - 1.1, n0 + 1.1, 0.1)\n",
    "# compute linear & quadratic energy values for sampled number of electrons\n",
    "energy_lin = [model_lin.energy(n) for n in n_values]\n",
    "energy_qua = [model_qua.energy(n) for n in n_values]\n",
    "energy_rat = [model_rat.energy(n) for n in n_values]\n",
    "energy_exp = [model_exp.energy(n) for n in n_values]\n",
    "\n",
    "# 3. Plot energy vs. number of electrons.\n",
    "\n",
    "# plot linear energy model\n",
    "plt.plot(n_values, energy_lin, color='0.7', linestyle='--', linewidth=2.5,\n",
    "         label='%s Model' % model_lin.model.capitalize())\n",
    "# plot quadratic energy model\n",
    "plt.plot(n_values, energy_qua, color='c', linestyle='-', linewidth=2.5,\n",
    "         label='%s Model' % model_qua.model.capitalize())\n",
    "# plot rational energy model\n",
    "plt.plot(n_values, energy_rat, color='b', linestyle='--', linewidth=2.5,\n",
    "         label='%s Model' % model_rat.model.capitalize())\n",
    "# plot exponential energy model\n",
    "plt.plot(n_values, energy_exp, color='m', linestyle='-', linewidth=2.5,\n",
    "         label='%s Model' % model_exp.model.capitalize())\n",
    "\n",
    "# 4. Plot data points used for modeling energy.\n",
    "\n",
    "# number of electrons used for modeling energy\n",
    "n_data = [n0 - 1, n0, n0 + 1]\n",
    "# compute energy values used for modeling energy\n",
    "# Note: any of the tools built above can be used for this purpose because\n",
    "#       they all have the same energy for N0 - 1, N0, and N0 + 1 electrons.\n",
    "e_data = [model_lin.energy(n) for n in n_data]\n",
    "\n",
    "# plot given data points\n",
    "plt.plot(n_data, e_data, marker='o', markersize=8, color='k', linestyle='', label='Given Data')\n",
    "\n",
    "# add axis label\n",
    "plt.xlabel('Number of electrons, N', fontsize=12, fontweight='bold')\n",
    "plt.ylabel('Energy, E(N)', fontsize=12, fontweight='bold')\n",
    "# add title\n",
    "plt.title('Frontier Molecular Orbital Approach', fontsize=16, fontweight='bold')\n",
    "# add legend & remove legend frame\n",
    "plt.legend(frameon=False, fontsize=12)\n",
    "# show plot\n",
    "plt.tight_layout()\n",
    "plt.show()"
   ]
  },
  {
   "cell_type": "code",
   "execution_count": 5,
   "id": "91bff672",
   "metadata": {},
   "outputs": [
    {
     "name": "stderr",
     "output_type": "stream",
     "text": [
      "INFO: Initialized cube: <class 'chemtools.utils.cube.UniformGrid'>\n",
      "INFO: Origin : [-7.99999997 -8.5        -7.50000003]\n",
      "INFO: Axes 1 : [1.00000000e+00 1.82331528e-09 2.29825286e-09]\n",
      "INFO: Axes 2 : [-1.82331528e-09  1.00000000e+00  1.71810062e-09]\n",
      "INFO: Axes 3 : [-2.29825286e-09 -1.71810076e-09  1.00000000e+00]\n",
      "INFO: Shape  : [16 17 15]\n"
     ]
    },
    {
     "name": "stdout",
     "output_type": "stream",
     "text": [
      "Initialized: <horton.gbasis.cext.GOBasis object at 0x7fd4758ceca0>\n",
      "  Number of basis functions         : 270\n",
      "  Number of normalization constants : 540\n",
      "  Maximum shell type                : 3\n",
      "  Center     0 :  S7 S3 S2 S1 S1 P5 P1 P1 P1 P1 Dp1 Dp1 Dp1 Fp1\n",
      "  Center     1 :  S7 S3 S2 S1 S1 P5 P1 P1 P1 P1 Dp1 Dp1 Dp1 Fp1\n",
      "  Center     2 :  S7 S3 S2 S1 S1 P5 P1 P1 P1 P1 Dp1 Dp1 Dp1 Fp1\n",
      "  Center     3 :  S8 S4 S2 S1 S1 S1 P6 P3 P1 P1 P1 Dp5 Dp1 Dp1 Dp1 Fp1\n",
      "  Center     4 :  S8 S4 S2 S1 S1 S1 P6 P3 P1 P1 P1 Dp5 Dp1 Dp1 Dp1 Fp1\n",
      "  Center     5 :  S8 S4 S2 S1 S1 S1 P6 P3 P1 P1 P1 Dp5 Dp1 Dp1 Dp1 Fp1\n",
      "\n"
     ]
    }
   ],
   "source": [
    "from chemtools import  UniformGrid, Molecule, print_vmd_script_isosurface, DFTBasedTool\n",
    "\n",
    "# 1. Build Orbital Theory model\n",
    "\n",
    "fname = 'data/al3ga3'\n",
    "\n",
    "mol = Molecule.from_file(fname + '.fchk')\n",
    "cub = UniformGrid.from_molecule(mol, spacing=1.0, extension=5.0)\n",
    "orb = DFTBasedTool.from_molecule(mol, cub.points)\n",
    "\n",
    "# 2. Generate cube files: fname_esp.cube & fname_rho.cube\n",
    "\n",
    "lip_a, lip_b = orb.average_local_ionization_energy\n",
    "\n",
    "lipname = fname + '_lip.cube'\n",
    "rhoname = fname + '_rho.cube'\n",
    "\n",
    "cub.generate_cube(rhoname, mol.compute_density(cub.points))\n",
    "cub.generate_cube(lipname, lip_a + lip_b)\n",
    "\n",
    "# 3. Generate vmd script: fname.vmd\n",
    "#    To visualize the iso-surface, use command: $ vmd -e fname.vmd\n",
    "\n",
    "print_vmd_script_isosurface(fname + '.vmd', rhoname, colorfile=lipname, isosurf=0.002,\n",
    "                            scalemin=-1.0, scalemax=mol.mo.homo_energy[0])"
   ]
  },
  {
   "cell_type": "code",
   "execution_count": 6,
   "id": "14854d41",
   "metadata": {},
   "outputs": [
    {
     "name": "stdout",
     "output_type": "stream",
     "text": [
      "al3ga3-dens.cube  al3ga3.vmd\t\t   data\n",
      "al3ga3-grad.cube  chemtool-analysis.ipynb  venky\n"
     ]
    }
   ],
   "source": [
    "!ls"
   ]
  },
  {
   "cell_type": "code",
   "execution_count": 7,
   "id": "92f5764a",
   "metadata": {},
   "outputs": [
    {
     "name": "stdout",
     "output_type": "stream",
     "text": [
      "al3ga3.fchk  al3ga3_lip.cube  al3ga3_rho.cube  al3ga3.vmd  b2-job.wfn\n"
     ]
    }
   ],
   "source": [
    "!ls data/"
   ]
  },
  {
   "cell_type": "code",
   "execution_count": 8,
   "id": "4c970f52",
   "metadata": {},
   "outputs": [
    {
     "name": "stderr",
     "output_type": "stream",
     "text": [
      "INFO: Initialized cube: <class 'chemtools.utils.cube.UniformGrid'>\n",
      "INFO: Origin : [-4.99999998 -5.45       -4.10000002]\n",
      "INFO: Axes 1 : [1.00000000e-01 1.82331528e-10 2.29825286e-10]\n",
      "INFO: Axes 2 : [-1.82331528e-10  1.00000000e-01  1.71810062e-10]\n",
      "INFO: Axes 3 : [-2.29825286e-10 -1.71810076e-10  1.00000000e-01]\n",
      "INFO: Shape  : [100 109  82]\n"
     ]
    },
    {
     "name": "stdout",
     "output_type": "stream",
     "text": [
      "Initialized: <horton.gbasis.cext.GOBasis object at 0x7fd4758de220>\n",
      "  Number of basis functions         : 270\n",
      "  Number of normalization constants : 540\n",
      "  Maximum shell type                : 3\n",
      "  Center     0 :  S7 S3 S2 S1 S1 P5 P1 P1 P1 P1 Dp1 Dp1 Dp1 Fp1\n",
      "  Center     1 :  S7 S3 S2 S1 S1 P5 P1 P1 P1 P1 Dp1 Dp1 Dp1 Fp1\n",
      "  Center     2 :  S7 S3 S2 S1 S1 P5 P1 P1 P1 P1 Dp1 Dp1 Dp1 Fp1\n",
      "  Center     3 :  S8 S4 S2 S1 S1 S1 P6 P3 P1 P1 P1 Dp5 Dp1 Dp1 Dp1 Fp1\n",
      "  Center     4 :  S8 S4 S2 S1 S1 S1 P6 P3 P1 P1 P1 Dp5 Dp1 Dp1 Dp1 Fp1\n",
      "  Center     5 :  S8 S4 S2 S1 S1 S1 P6 P3 P1 P1 P1 Dp5 Dp1 Dp1 Dp1 Fp1\n",
      "\n"
     ]
    }
   ],
   "source": [
    "from chemtools import NCI\n",
    "\n",
    "\n",
    "# 1. Build NCI model\n",
    "\n",
    "nci = NCI.from_file('data/al3ga3.fchk')\n",
    "\n",
    "# 2. Generate plot, cube file(s) and script for visualizing NCI\n",
    "\n",
    "nci.generate_scripts('al3ga3')"
   ]
  },
  {
   "cell_type": "code",
   "execution_count": 15,
   "id": "06d948c7",
   "metadata": {},
   "outputs": [
    {
     "name": "stdout",
     "output_type": "stream",
     "text": [
      "total 23088\r\n",
      "drwxr-xr-x 9 sandip software     4096 Mar 14 10:59 chemtools\r\n",
      "drwxr-xr-x 2 sandip software      107 Mar 15 14:13 data\r\n",
      "-rw-r--r-- 1 sandip software 11768943 Mar 16 12:30 al3ga3-dens.cube\r\n",
      "-rw-r--r-- 1 sandip software     1088 Mar 16 12:30 al3ga3.vmd\r\n",
      "-rw-r--r-- 1 sandip software 11768943 Mar 16 12:30 al3ga3-grad.cube\r\n",
      "-rw-r--r-- 1 sandip software    87108 Mar 16 12:31 chemtool-analysis.ipynb\r\n"
     ]
    }
   ],
   "source": [
    "!ls -ltr"
   ]
  },
  {
   "cell_type": "code",
   "execution_count": null,
   "id": "a3270a55",
   "metadata": {},
   "outputs": [],
   "source": []
  }
 ],
 "metadata": {
  "kernelspec": {
   "display_name": "Python 3",
   "language": "python",
   "name": "python3"
  },
  "language_info": {
   "codemirror_mode": {
    "name": "ipython",
    "version": 3
   },
   "file_extension": ".py",
   "mimetype": "text/x-python",
   "name": "python",
   "nbconvert_exporter": "python",
   "pygments_lexer": "ipython3",
   "version": "3.9.12"
  }
 },
 "nbformat": 4,
 "nbformat_minor": 5
}
